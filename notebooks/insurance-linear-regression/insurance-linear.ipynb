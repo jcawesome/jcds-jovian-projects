{
 "cells": [
  {
   "cell_type": "markdown",
   "metadata": {
    "_cell_guid": "b1076dfc-b9ad-4769-8c92-a6c4dae69d19",
    "_uuid": "8f2839f25d086af736a60e9eeb907d3b93b6e0e5",
    "id": "8RcTGIBh6p3i"
   },
   "source": [
    "# Insurance cost prediction using linear regression\n",
    "\n",
    "Make a submisson here: https://jovian.ai/learn/deep-learning-with-pytorch-zero-to-gans/assignment/assignment-2-train-your-first-model\n",
    "\n",
    "In this assignment we're going to use information like a person's age, sex, BMI, no. of children and smoking habit to predict the price of yearly medical bills. This kind of model is useful for insurance companies to determine the yearly insurance premium for a person. The dataset for this problem is taken from [Kaggle](https://www.kaggle.com/mirichoi0218/insurance).\n",
    "\n",
    "\n",
    "We will create a model with the following steps:\n",
    "1. Download and explore the dataset\n",
    "2. Prepare the dataset for training\n",
    "3. Create a linear regression model\n",
    "4. Train the model to fit the data\n",
    "5. Make predictions using the trained model\n",
    "\n",
    "\n",
    "This assignment builds upon the concepts from the first 2 lessons. It will help to review these Jupyter notebooks:\n",
    "- PyTorch basics: https://jovian.ai/aakashns/01-pytorch-basics\n",
    "- Linear Regression: https://jovian.ai/aakashns/02-linear-regression\n",
    "- Logistic Regression: https://jovian.ai/aakashns/03-logistic-regression\n",
    "- Linear regression (minimal): https://jovian.ai/aakashns/housing-linear-minimal\n",
    "- Logistic regression (minimal): https://jovian.ai/aakashns/mnist-logistic-minimal\n",
    "\n",
    "As you go through this notebook, you will find a **???** in certain places. Your job is to replace the **???** with appropriate code or values, to ensure that the notebook runs properly end-to-end . In some cases, you'll be required to choose some hyperparameters (learning rate, batch size etc.). Try to experiment with the hypeparameters to get the lowest loss.\n"
   ]
  },
  {
   "cell_type": "code",
   "execution_count": null,
   "metadata": {
    "id": "jHsrXymH6p3p"
   },
   "outputs": [],
   "source": [
    "# Uncomment and run the appropriate command for your operating system, if required\n",
    "\n",
    "# Linux / Binder\n",
    "# !pip install numpy matplotlib pandas torch==1.7.0+cpu torchvision==0.8.1+cpu torchaudio==0.7.0 -f https://download.pytorch.org/whl/torch_stable.html\n",
    "\n",
    "# Windows\n",
    "# !pip install numpy matplotlib pandas torch==1.7.0+cpu torchvision==0.8.1+cpu torchaudio==0.7.0 -f https://download.pytorch.org/whl/torch_stable.html\n",
    "\n",
    "# MacOS\n",
    "# !pip install numpy matplotlib pandas torch torchvision torchaudio"
   ]
  },
  {
   "cell_type": "code",
   "execution_count": 2,
   "metadata": {
    "executionInfo": {
     "elapsed": 1313,
     "status": "ok",
     "timestamp": 1607785571541,
     "user": {
      "displayName": "Jan Carlo Pagtalunan",
      "photoUrl": "",
      "userId": "18020531308164200758"
     },
     "user_tz": -480
    },
    "id": "6BydzXrf6p3u"
   },
   "outputs": [],
   "source": [
    "import torch\n",
    "import jovian\n",
    "import torchvision\n",
    "import torch.nn as nn\n",
    "import pandas as pd\n",
    "import matplotlib.pyplot as plt\n",
    "import torch.nn.functional as F\n",
    "from torchvision.datasets.utils import download_url\n",
    "from torch.utils.data import DataLoader, TensorDataset, random_split"
   ]
  },
  {
   "cell_type": "code",
   "execution_count": 3,
   "metadata": {
    "executionInfo": {
     "elapsed": 1626,
     "status": "ok",
     "timestamp": 1607785573311,
     "user": {
      "displayName": "Jan Carlo Pagtalunan",
      "photoUrl": "",
      "userId": "18020531308164200758"
     },
     "user_tz": -480
    },
    "id": "BmY-M5fy6p3w"
   },
   "outputs": [],
   "source": [
    "project_name='02-insurance-linear-regression' # will be used by jovian.commit"
   ]
  },
  {
   "cell_type": "markdown",
   "metadata": {
    "id": "hmVOKPMB6p3y"
   },
   "source": [
    "## Step 1: Download and explore the data\n",
    "\n",
    "Let us begin by downloading the data. We'll use the `download_url` function from PyTorch to get the data as a CSV (comma-separated values) file. "
   ]
  },
  {
   "cell_type": "code",
   "execution_count": 4,
   "metadata": {
    "_cell_guid": "79c7e3d0-c299-4dcb-8224-4455121ee9b0",
    "_uuid": "d629ff2d2480ee46fbb7e2d37f6b5fab8052498a",
    "colab": {
     "base_uri": "https://localhost:8080/"
    },
    "executionInfo": {
     "elapsed": 783,
     "status": "ok",
     "timestamp": 1607785573748,
     "user": {
      "displayName": "Jan Carlo Pagtalunan",
      "photoUrl": "",
      "userId": "18020531308164200758"
     },
     "user_tz": -480
    },
    "id": "15Rhlg9V6p31",
    "outputId": "e966a105-2a64-4461-ee31-6ead50bb917a"
   },
   "outputs": [
    {
     "name": "stdout",
     "output_type": "stream",
     "text": [
      "Using downloaded and verified file: ./insurance.csv\n"
     ]
    }
   ],
   "source": [
    "DATASET_URL = \"https://hub.jovian.ml/wp-content/uploads/2020/05/insurance.csv\"\n",
    "DATA_FILENAME = \"insurance.csv\"\n",
    "download_url(DATASET_URL, '.')"
   ]
  },
  {
   "cell_type": "markdown",
   "metadata": {
    "id": "qSsILeOZ6p36"
   },
   "source": [
    "To load the dataset into memory, we'll use the `read_csv` function from the `pandas` library. The data will be loaded as a Pandas dataframe. See this short tutorial to learn more: https://data36.com/pandas-tutorial-1-basics-reading-data-files-dataframes-data-selection/"
   ]
  },
  {
   "cell_type": "code",
   "execution_count": 5,
   "metadata": {
    "colab": {
     "base_uri": "https://localhost:8080/",
     "height": 206
    },
    "executionInfo": {
     "elapsed": 1200,
     "status": "ok",
     "timestamp": 1607785578145,
     "user": {
      "displayName": "Jan Carlo Pagtalunan",
      "photoUrl": "",
      "userId": "18020531308164200758"
     },
     "user_tz": -480
    },
    "id": "JXQW2vKv6p37",
    "outputId": "21380fe0-4390-44dc-ca44-07a1e8aed224"
   },
   "outputs": [
    {
     "data": {
      "text/html": [
       "<div>\n",
       "<style scoped>\n",
       "    .dataframe tbody tr th:only-of-type {\n",
       "        vertical-align: middle;\n",
       "    }\n",
       "\n",
       "    .dataframe tbody tr th {\n",
       "        vertical-align: top;\n",
       "    }\n",
       "\n",
       "    .dataframe thead th {\n",
       "        text-align: right;\n",
       "    }\n",
       "</style>\n",
       "<table border=\"1\" class=\"dataframe\">\n",
       "  <thead>\n",
       "    <tr style=\"text-align: right;\">\n",
       "      <th></th>\n",
       "      <th>age</th>\n",
       "      <th>sex</th>\n",
       "      <th>bmi</th>\n",
       "      <th>children</th>\n",
       "      <th>smoker</th>\n",
       "      <th>region</th>\n",
       "      <th>charges</th>\n",
       "    </tr>\n",
       "  </thead>\n",
       "  <tbody>\n",
       "    <tr>\n",
       "      <th>0</th>\n",
       "      <td>19</td>\n",
       "      <td>female</td>\n",
       "      <td>27.900</td>\n",
       "      <td>0</td>\n",
       "      <td>yes</td>\n",
       "      <td>southwest</td>\n",
       "      <td>16884.92400</td>\n",
       "    </tr>\n",
       "    <tr>\n",
       "      <th>1</th>\n",
       "      <td>18</td>\n",
       "      <td>male</td>\n",
       "      <td>33.770</td>\n",
       "      <td>1</td>\n",
       "      <td>no</td>\n",
       "      <td>southeast</td>\n",
       "      <td>1725.55230</td>\n",
       "    </tr>\n",
       "    <tr>\n",
       "      <th>2</th>\n",
       "      <td>28</td>\n",
       "      <td>male</td>\n",
       "      <td>33.000</td>\n",
       "      <td>3</td>\n",
       "      <td>no</td>\n",
       "      <td>southeast</td>\n",
       "      <td>4449.46200</td>\n",
       "    </tr>\n",
       "    <tr>\n",
       "      <th>3</th>\n",
       "      <td>33</td>\n",
       "      <td>male</td>\n",
       "      <td>22.705</td>\n",
       "      <td>0</td>\n",
       "      <td>no</td>\n",
       "      <td>northwest</td>\n",
       "      <td>21984.47061</td>\n",
       "    </tr>\n",
       "    <tr>\n",
       "      <th>4</th>\n",
       "      <td>32</td>\n",
       "      <td>male</td>\n",
       "      <td>28.880</td>\n",
       "      <td>0</td>\n",
       "      <td>no</td>\n",
       "      <td>northwest</td>\n",
       "      <td>3866.85520</td>\n",
       "    </tr>\n",
       "  </tbody>\n",
       "</table>\n",
       "</div>"
      ],
      "text/plain": [
       "   age     sex     bmi  children smoker     region      charges\n",
       "0   19  female  27.900         0    yes  southwest  16884.92400\n",
       "1   18    male  33.770         1     no  southeast   1725.55230\n",
       "2   28    male  33.000         3     no  southeast   4449.46200\n",
       "3   33    male  22.705         0     no  northwest  21984.47061\n",
       "4   32    male  28.880         0     no  northwest   3866.85520"
      ]
     },
     "execution_count": 5,
     "metadata": {
      "tags": []
     },
     "output_type": "execute_result"
    }
   ],
   "source": [
    "dataframe_raw = pd.read_csv(DATA_FILENAME)\n",
    "dataframe_raw.head()"
   ]
  },
  {
   "cell_type": "markdown",
   "metadata": {
    "id": "RcVJZZHm6p3-"
   },
   "source": [
    "We're going to do a slight customization of the data, so that you every participant receives a slightly different version of the dataset. Fill in your name below as a string (enter at least 5 characters)"
   ]
  },
  {
   "cell_type": "code",
   "execution_count": 6,
   "metadata": {
    "executionInfo": {
     "elapsed": 1163,
     "status": "ok",
     "timestamp": 1607785581708,
     "user": {
      "displayName": "Jan Carlo Pagtalunan",
      "photoUrl": "",
      "userId": "18020531308164200758"
     },
     "user_tz": -480
    },
    "id": "46eTWG9C6p4B"
   },
   "outputs": [],
   "source": [
    "your_name = 'JanCarlo' # at least 5 characters"
   ]
  },
  {
   "cell_type": "markdown",
   "metadata": {
    "id": "uHLV93XW6p4K"
   },
   "source": [
    "The `customize_dataset` function will customize the dataset slightly using your name as a source of random numbers."
   ]
  },
  {
   "cell_type": "code",
   "execution_count": 7,
   "metadata": {
    "executionInfo": {
     "elapsed": 889,
     "status": "ok",
     "timestamp": 1607785583435,
     "user": {
      "displayName": "Jan Carlo Pagtalunan",
      "photoUrl": "",
      "userId": "18020531308164200758"
     },
     "user_tz": -480
    },
    "id": "vsZYRysi6p4L"
   },
   "outputs": [],
   "source": [
    "def customize_dataset(dataframe_raw, rand_str):\n",
    "    dataframe = dataframe_raw.copy(deep=True)\n",
    "    # drop some rows\n",
    "    dataframe = dataframe.sample(int(0.95*len(dataframe)), random_state=int(ord(rand_str[0])))\n",
    "    # scale input\n",
    "    dataframe.bmi = dataframe.bmi * ord(rand_str[1])/100.\n",
    "    # scale target\n",
    "    dataframe.charges = dataframe.charges * ord(rand_str[2])/100.\n",
    "    # drop column\n",
    "    if ord(rand_str[3]) % 2 == 1:\n",
    "        dataframe = dataframe.drop(['region'], axis=1)\n",
    "    return dataframe"
   ]
  },
  {
   "cell_type": "code",
   "execution_count": 8,
   "metadata": {
    "colab": {
     "base_uri": "https://localhost:8080/",
     "height": 206
    },
    "executionInfo": {
     "elapsed": 1157,
     "status": "ok",
     "timestamp": 1607785586193,
     "user": {
      "displayName": "Jan Carlo Pagtalunan",
      "photoUrl": "",
      "userId": "18020531308164200758"
     },
     "user_tz": -480
    },
    "id": "uEEaNGwB6p4O",
    "outputId": "368caa0f-5420-4a57-e90b-4ecd6ac3b195"
   },
   "outputs": [
    {
     "data": {
      "text/html": [
       "<div>\n",
       "<style scoped>\n",
       "    .dataframe tbody tr th:only-of-type {\n",
       "        vertical-align: middle;\n",
       "    }\n",
       "\n",
       "    .dataframe tbody tr th {\n",
       "        vertical-align: top;\n",
       "    }\n",
       "\n",
       "    .dataframe thead th {\n",
       "        text-align: right;\n",
       "    }\n",
       "</style>\n",
       "<table border=\"1\" class=\"dataframe\">\n",
       "  <thead>\n",
       "    <tr style=\"text-align: right;\">\n",
       "      <th></th>\n",
       "      <th>age</th>\n",
       "      <th>sex</th>\n",
       "      <th>bmi</th>\n",
       "      <th>children</th>\n",
       "      <th>smoker</th>\n",
       "      <th>charges</th>\n",
       "    </tr>\n",
       "  </thead>\n",
       "  <tbody>\n",
       "    <tr>\n",
       "      <th>676</th>\n",
       "      <td>55</td>\n",
       "      <td>female</td>\n",
       "      <td>39.58570</td>\n",
       "      <td>3</td>\n",
       "      <td>no</td>\n",
       "      <td>13734.380990</td>\n",
       "    </tr>\n",
       "    <tr>\n",
       "      <th>217</th>\n",
       "      <td>27</td>\n",
       "      <td>male</td>\n",
       "      <td>22.40700</td>\n",
       "      <td>0</td>\n",
       "      <td>no</td>\n",
       "      <td>2732.109600</td>\n",
       "    </tr>\n",
       "    <tr>\n",
       "      <th>864</th>\n",
       "      <td>51</td>\n",
       "      <td>male</td>\n",
       "      <td>24.63800</td>\n",
       "      <td>0</td>\n",
       "      <td>no</td>\n",
       "      <td>9660.715900</td>\n",
       "    </tr>\n",
       "    <tr>\n",
       "      <th>751</th>\n",
       "      <td>21</td>\n",
       "      <td>male</td>\n",
       "      <td>28.10575</td>\n",
       "      <td>0</td>\n",
       "      <td>no</td>\n",
       "      <td>2096.994075</td>\n",
       "    </tr>\n",
       "    <tr>\n",
       "      <th>1106</th>\n",
       "      <td>49</td>\n",
       "      <td>female</td>\n",
       "      <td>29.02725</td>\n",
       "      <td>0</td>\n",
       "      <td>no</td>\n",
       "      <td>9886.974625</td>\n",
       "    </tr>\n",
       "  </tbody>\n",
       "</table>\n",
       "</div>"
      ],
      "text/plain": [
       "      age     sex       bmi  children smoker       charges\n",
       "676    55  female  39.58570         3     no  13734.380990\n",
       "217    27    male  22.40700         0     no   2732.109600\n",
       "864    51    male  24.63800         0     no   9660.715900\n",
       "751    21    male  28.10575         0     no   2096.994075\n",
       "1106   49  female  29.02725         0     no   9886.974625"
      ]
     },
     "execution_count": 8,
     "metadata": {
      "tags": []
     },
     "output_type": "execute_result"
    }
   ],
   "source": [
    "dataframe = customize_dataset(dataframe_raw, your_name)\n",
    "dataframe.head()"
   ]
  },
  {
   "cell_type": "markdown",
   "metadata": {
    "id": "nQEhlXFI6p4P"
   },
   "source": [
    "Let us answer some basic questions about the dataset. \n",
    "\n",
    "\n",
    "**Q: How many rows does the dataset have?**"
   ]
  },
  {
   "cell_type": "code",
   "execution_count": 9,
   "metadata": {
    "colab": {
     "base_uri": "https://localhost:8080/"
    },
    "executionInfo": {
     "elapsed": 1024,
     "status": "ok",
     "timestamp": 1607785590391,
     "user": {
      "displayName": "Jan Carlo Pagtalunan",
      "photoUrl": "",
      "userId": "18020531308164200758"
     },
     "user_tz": -480
    },
    "id": "bMBs3Dsq6p4R",
    "outputId": "84980877-1835-49e7-822c-2d00be0ce349"
   },
   "outputs": [
    {
     "name": "stdout",
     "output_type": "stream",
     "text": [
      "1271\n",
      "1271\n",
      "Int64Index([ 676,  217,  864,  751, 1106,  397, 1267, 1237,  477,  856,\n",
      "            ...\n",
      "             261,   19,  847,    5,  762, 1071,  981,  685,  973, 1115],\n",
      "           dtype='int64', length=1271)\n",
      "1271\n",
      "1271\n"
     ]
    }
   ],
   "source": [
    "#Multiple ways to get the number of rows: count, len(dataframe.index), dataframe.shape[0]\n",
    "num_rows = dataframe['age'].count() \n",
    "print(num_rows)\n",
    "\n",
    "num_rows = dataframe.age.count() \n",
    "print(num_rows)\n",
    "\n",
    "df_index = dataframe.index\n",
    "print(df_index)\n",
    "\n",
    "num_rows = len(dataframe.index)\n",
    "print(num_rows)\n",
    "\n",
    "num_rows = dataframe.shape[0]\n",
    "print(num_rows)\n",
    "\n",
    "\n"
   ]
  },
  {
   "cell_type": "markdown",
   "metadata": {
    "id": "lixtxiMt6p4R"
   },
   "source": [
    "**Q: How many columns doe the dataset have**"
   ]
  },
  {
   "cell_type": "code",
   "execution_count": 10,
   "metadata": {
    "colab": {
     "base_uri": "https://localhost:8080/"
    },
    "executionInfo": {
     "elapsed": 1149,
     "status": "ok",
     "timestamp": 1607785595699,
     "user": {
      "displayName": "Jan Carlo Pagtalunan",
      "photoUrl": "",
      "userId": "18020531308164200758"
     },
     "user_tz": -480
    },
    "id": "rPg2xwbo6p4T",
    "outputId": "796becd5-042b-48da-f158-4e717bbbfa68"
   },
   "outputs": [
    {
     "name": "stdout",
     "output_type": "stream",
     "text": [
      "Index(['age', 'sex', 'bmi', 'children', 'smoker', 'charges'], dtype='object')\n",
      "6\n",
      "['age', 'sex', 'bmi', 'children', 'smoker', 'charges']\n",
      "6\n",
      "(1271, 6)\n",
      "6\n"
     ]
    }
   ],
   "source": [
    "#Multiple ways to get the number of columns: len(dataframe.columns), len(list(dataframe)) and dataframe.shape[1]\n",
    "df_columns = dataframe.columns\n",
    "print(df_columns)\n",
    "\n",
    "num_cols = len(dataframe.columns)\n",
    "print(num_cols)\n",
    "\n",
    "df_list = list(dataframe)\n",
    "print(df_list)\n",
    "\n",
    "num_cols = len(list(dataframe))\n",
    "print(num_cols)\n",
    "\n",
    "\n",
    "#Shape returns a tuple as rows, columns (0,1)\n",
    "df_shape = dataframe.shape\n",
    "print(df_shape)\n",
    "\n",
    "num_cols = dataframe.shape[1]\n",
    "print(num_cols)"
   ]
  },
  {
   "cell_type": "markdown",
   "metadata": {
    "id": "MKXsUZ916p4V"
   },
   "source": [
    "**Q: What are the column titles of the input variables?**"
   ]
  },
  {
   "cell_type": "code",
   "execution_count": 11,
   "metadata": {
    "colab": {
     "base_uri": "https://localhost:8080/"
    },
    "executionInfo": {
     "elapsed": 1112,
     "status": "ok",
     "timestamp": 1607785601243,
     "user": {
      "displayName": "Jan Carlo Pagtalunan",
      "photoUrl": "",
      "userId": "18020531308164200758"
     },
     "user_tz": -480
    },
    "id": "JiNi9MWo6p4W",
    "outputId": "782c4504-908e-47c9-e86b-f899adacfe4e"
   },
   "outputs": [
    {
     "name": "stdout",
     "output_type": "stream",
     "text": [
      "['age', 'sex', 'bmi', 'children', 'smoker']\n"
     ]
    }
   ],
   "source": [
    "input_cols = ['age', 'sex', 'bmi', 'children', 'smoker']\r\n",
    "print(input_cols)"
   ]
  },
  {
   "cell_type": "markdown",
   "metadata": {
    "id": "UXlFoY9e6p4c"
   },
   "source": [
    "**Q: Which of the input columns are non-numeric or categorial variables ?**\n",
    "\n",
    "Hint: `sex` is one of them. List the columns that are not numbers."
   ]
  },
  {
   "cell_type": "code",
   "execution_count": 12,
   "metadata": {
    "colab": {
     "base_uri": "https://localhost:8080/"
    },
    "executionInfo": {
     "elapsed": 1081,
     "status": "ok",
     "timestamp": 1607785603340,
     "user": {
      "displayName": "Jan Carlo Pagtalunan",
      "photoUrl": "",
      "userId": "18020531308164200758"
     },
     "user_tz": -480
    },
    "id": "izQpR-Bt6p4e",
    "outputId": "72aad40d-b82f-4710-a0ea-6f1194b3f0cf"
   },
   "outputs": [
    {
     "name": "stdout",
     "output_type": "stream",
     "text": [
      "age           int64\n",
      "sex          object\n",
      "bmi         float64\n",
      "children      int64\n",
      "smoker       object\n",
      "charges     float64\n",
      "dtype: object\n",
      "['sex', 'smoker']\n",
      "['sex', 'smoker']\n"
     ]
    }
   ],
   "source": [
    "#List down all columns with its corresponding data type\r\n",
    "df_dtypes = dataframe.dtypes\r\n",
    "print(df_dtypes)\r\n",
    "\r\n",
    "#select all columns with a data type exclusing numeric types such as int64 and float64\r\n",
    "categorical_cols = list(dataframe.select_dtypes(exclude=['number']))\r\n",
    "print(categorical_cols)\r\n",
    "\r\n",
    "#the provlem with the above code is that it's possible to select a dtype of DataTime, TimeStamp, etc\r\n",
    "categorical_cols = list(dataframe.select_dtypes(include=[object]))\r\n",
    "print(categorical_cols)\r\n"
   ]
  },
  {
   "cell_type": "markdown",
   "metadata": {
    "id": "QwjHXP0h6p4f"
   },
   "source": [
    "**Q: What are the column titles of output/target variable(s)?**"
   ]
  },
  {
   "cell_type": "code",
   "execution_count": 13,
   "metadata": {
    "colab": {
     "base_uri": "https://localhost:8080/"
    },
    "executionInfo": {
     "elapsed": 1178,
     "status": "ok",
     "timestamp": 1607785605842,
     "user": {
      "displayName": "Jan Carlo Pagtalunan",
      "photoUrl": "",
      "userId": "18020531308164200758"
     },
     "user_tz": -480
    },
    "id": "_g1nddAz6p4g",
    "outputId": "74dac3f6-88ff-416f-977a-f853f9a50f84"
   },
   "outputs": [
    {
     "name": "stdout",
     "output_type": "stream",
     "text": [
      "['charges']\n"
     ]
    }
   ],
   "source": [
    "#The target variables in this dataset is the price of yearly medical bills\r\n",
    "output_cols = ['charges']\r\n",
    "print(output_cols)"
   ]
  },
  {
   "cell_type": "markdown",
   "metadata": {
    "id": "4KLuNAbX6p4i"
   },
   "source": [
    "**Q: (Optional) What is the minimum, maximum and average value of the `charges` column? Can you show the distribution of values in a graph?**\n",
    "Use this data visualization cheatsheet for referece: https://jovian.ml/aakashns/dataviz-cheatsheet"
   ]
  },
  {
   "cell_type": "code",
   "execution_count": 14,
   "metadata": {
    "executionInfo": {
     "elapsed": 1396,
     "status": "ok",
     "timestamp": 1607785609324,
     "user": {
      "displayName": "Jan Carlo Pagtalunan",
      "photoUrl": "",
      "userId": "18020531308164200758"
     },
     "user_tz": -480
    },
    "id": "-1pjdg426p4m"
   },
   "outputs": [],
   "source": [
    "# Import libraries\r\n",
    "import matplotlib\r\n",
    "import matplotlib.pyplot as plt\r\n",
    "import seaborn as sns\r\n",
    "\r\n",
    "# Configuring styles\r\n",
    "sns.set_style(\"darkgrid\")\r\n",
    "matplotlib.rcParams['font.size'] = 14\r\n",
    "matplotlib.rcParams['figure.figsize'] = (9, 5)\r\n",
    "matplotlib.rcParams['figure.facecolor'] = '#00000000'"
   ]
  },
  {
   "cell_type": "code",
   "execution_count": 15,
   "metadata": {
    "colab": {
     "base_uri": "https://localhost:8080/"
    },
    "executionInfo": {
     "elapsed": 1129,
     "status": "ok",
     "timestamp": 1607785611619,
     "user": {
      "displayName": "Jan Carlo Pagtalunan",
      "photoUrl": "",
      "userId": "18020531308164200758"
     },
     "user_tz": -480
    },
    "id": "zR_Jbd-OFN-y",
    "outputId": "a75b1b04-977f-4e6f-8286-e75b86ff89ec"
   },
   "outputs": [
    {
     "name": "stdout",
     "output_type": "stream",
     "text": [
      "Min value of charges => 1234.06129 \n",
      "Max value of charges => 70147.470811 \n",
      "Average/Mean value of charges => 14584.02911214469 \n"
     ]
    }
   ],
   "source": [
    "#Get the min, max and average values of the `charge` column\r\n",
    "df_charge_min = dataframe.charges.min()\r\n",
    "print(\"Min value of charges => {} \".format(df_charge_min))\r\n",
    "\r\n",
    "df_charge_max = dataframe.charges.max()\r\n",
    "print(\"Max value of charges => {} \".format(df_charge_max))\r\n",
    "\r\n",
    "df_charge_mean = dataframe.charges.mean()\r\n",
    "print(\"Average/Mean value of charges => {} \".format(df_charge_mean))\r\n"
   ]
  },
  {
   "cell_type": "code",
   "execution_count": 16,
   "metadata": {
    "executionInfo": {
     "elapsed": 1248,
     "status": "ok",
     "timestamp": 1607785615071,
     "user": {
      "displayName": "Jan Carlo Pagtalunan",
      "photoUrl": "",
      "userId": "18020531308164200758"
     },
     "user_tz": -480
    },
    "id": "-hvlUvc6L2bZ"
   },
   "outputs": [],
   "source": [
    "#Suppress warnings for using distplot\r\n",
    "import warnings\r\n",
    "warnings.simplefilter(action='ignore', category=FutureWarning)"
   ]
  },
  {
   "cell_type": "code",
   "execution_count": 17,
   "metadata": {
    "colab": {
     "base_uri": "https://localhost:8080/",
     "height": 380
    },
    "executionInfo": {
     "elapsed": 1655,
     "status": "ok",
     "timestamp": 1607785618280,
     "user": {
      "displayName": "Jan Carlo Pagtalunan",
      "photoUrl": "",
      "userId": "18020531308164200758"
     },
     "user_tz": -480
    },
    "id": "4709-kvCIOIL",
    "outputId": "2392b958-39d7-447a-c0b9-af6af8a2b9fd"
   },
   "outputs": [
    {
     "data": {
      "text/plain": [
       "<matplotlib.axes._subplots.AxesSubplot at 0x7fbf4c0892b0>"
      ]
     },
     "execution_count": 17,
     "metadata": {
      "tags": []
     },
     "output_type": "execute_result"
    },
    {
     "data": {
      "image/png": "[encoded data removed]",
      "text/plain": [
       "<Figure size 648x360 with 1 Axes>"
      ]
     },
     "metadata": {
      "needs_background": "light",
      "tags": []
     },
     "output_type": "display_data"
    }
   ],
   "source": [
    "#Distribution of values in a graph\r\n",
    "plt.title(\"Distribution of Medical Bill Charges\")\r\n",
    "sns.distplot((dataframe.charges), kde=False, color='red', bins=100)\r\n"
   ]
  },
  {
   "cell_type": "code",
   "execution_count": 18,
   "metadata": {
    "colab": {
     "base_uri": "https://localhost:8080/",
     "height": 380
    },
    "executionInfo": {
     "elapsed": 1446,
     "status": "ok",
     "timestamp": 1607785623275,
     "user": {
      "displayName": "Jan Carlo Pagtalunan",
      "photoUrl": "",
      "userId": "18020531308164200758"
     },
     "user_tz": -480
    },
    "id": "yCbyyF1WJ2TK",
    "outputId": "f2be8f4e-3ff0-41f2-b992-6f16594e5adf"
   },
   "outputs": [
    {
     "data": {
      "text/plain": [
       "Text(0, 0.5, 'Density')"
      ]
     },
     "execution_count": 18,
     "metadata": {
      "tags": []
     },
     "output_type": "execute_result"
    },
    {
     "data": {
      "image/png": "[encoded data removed]",
      "text/plain": [
       "<Figure size 648x360 with 1 Axes>"
      ]
     },
     "metadata": {
      "needs_background": "light",
      "tags": []
     },
     "output_type": "display_data"
    }
   ],
   "source": [
    "#Distribution of values in a graph between Genders\r\n",
    "\r\n",
    "df = dataframe[dataframe.sex == 'female']\r\n",
    "sns.distplot(df.charges,  kde=False, label='Female')\r\n",
    "\r\n",
    "df = dataframe[dataframe.sex == 'male']\r\n",
    "sns.distplot(df.charges,  kde=False, label='Male')\r\n",
    "\r\n",
    "# Plot formatting\r\n",
    "plt.legend(prop={'size': 12})\r\n",
    "plt.title(\"Distribution of Medical Bill Charges between genders\")\r\n",
    "plt.xlabel('Charges')\r\n",
    "plt.ylabel('Density')\r\n",
    "\r\n"
   ]
  },
  {
   "cell_type": "code",
   "execution_count": null,
   "metadata": {
    "id": "MsLkHCs4FyzL"
   },
   "outputs": [],
   "source": [
    "#Distribution of values in a graph (using matplotlib pyplot)\r\n",
    "plt.title(\"Distribution of Medical Bill Charges\")\r\n",
    "plt.hist(dataframe.charges,bins=int(180/5))\r\n",
    "plt.xlabel(\"Charges\", fontsize=15)\r\n",
    "plt.ylabel(\"Frequency\",fontsize=15)"
   ]
  },
  {
   "cell_type": "markdown",
   "metadata": {
    "id": "4JrzjI5H6p4p"
   },
   "source": [
    "Remember to commit your notebook to Jovian after every step, so that you don't lose your work."
   ]
  },
  {
   "cell_type": "code",
   "execution_count": 19,
   "metadata": {
    "executionInfo": {
     "elapsed": 3814,
     "status": "ok",
     "timestamp": 1607785630200,
     "user": {
      "displayName": "Jan Carlo Pagtalunan",
      "photoUrl": "",
      "userId": "18020531308164200758"
     },
     "user_tz": -480
    },
    "id": "3YXt1cku6p4q"
   },
   "outputs": [],
   "source": [
    "!pip install jovian --upgrade -q"
   ]
  },
  {
   "cell_type": "code",
   "execution_count": 20,
   "metadata": {
    "executionInfo": {
     "elapsed": 3304,
     "status": "ok",
     "timestamp": 1607785630201,
     "user": {
      "displayName": "Jan Carlo Pagtalunan",
      "photoUrl": "",
      "userId": "18020531308164200758"
     },
     "user_tz": -480
    },
    "id": "NjohbWr66p4r"
   },
   "outputs": [],
   "source": [
    "import jovian"
   ]
  },
  {
   "cell_type": "code",
   "execution_count": 21,
   "metadata": {
    "colab": {
     "base_uri": "https://localhost:8080/",
     "height": 109
    },
    "executionInfo": {
     "elapsed": 5217,
     "status": "ok",
     "timestamp": 1607785633510,
     "user": {
      "displayName": "Jan Carlo Pagtalunan",
      "photoUrl": "",
      "userId": "18020531308164200758"
     },
     "user_tz": -480
    },
    "id": "X9LhWOP16p4t",
    "outputId": "98d9d4da-4c79-44f5-dbf5-5117656fdbc2"
   },
   "outputs": [
    {
     "name": "stdout",
     "output_type": "stream",
     "text": [
      "[jovian] Detected Colab notebook...\u001b[0m\n",
      "[jovian] Uploading colab notebook to Jovian...\u001b[0m\n",
      "[jovian] Capturing environment..\u001b[0m\n",
      "[jovian] Committed successfully! https://jovian.ai/jcawesome/02-insurance-linear-regression\u001b[0m\n"
     ]
    },
    {
     "data": {
      "application/vnd.google.colaboratory.intrinsic+json": {
       "type": "string"
      },
      "text/plain": [
       "'https://jovian.ai/jcawesome/02-insurance-linear-regression'"
      ]
     },
     "execution_count": 21,
     "metadata": {
      "tags": []
     },
     "output_type": "execute_result"
    }
   ],
   "source": [
    "jovian.commit(project=project_name)"
   ]
  },
  {
   "cell_type": "markdown",
   "metadata": {
    "id": "D1VLeMI16p4u"
   },
   "source": [
    "## Step 2: Prepare the dataset for training\n",
    "\n",
    "We need to convert the data from the Pandas dataframe into a PyTorch tensors for training. To do this, the first step is to convert it numpy arrays. If you've filled out `input_cols`, `categorial_cols` and `output_cols` correctly, this following function will perform the conversion to numpy arrays."
   ]
  },
  {
   "cell_type": "code",
   "execution_count": 22,
   "metadata": {
    "colab": {
     "base_uri": "https://localhost:8080/"
    },
    "executionInfo": {
     "elapsed": 560,
     "status": "ok",
     "timestamp": 1607785633512,
     "user": {
      "displayName": "Jan Carlo Pagtalunan",
      "photoUrl": "",
      "userId": "18020531308164200758"
     },
     "user_tz": -480
    },
    "id": "GBGa_4sHQ96N",
    "outputId": "3c73c7dc-2585-45e3-a4a8-69985fe470fe"
   },
   "outputs": [
    {
     "name": "stdout",
     "output_type": "stream",
     "text": [
      "['age', 'sex', 'bmi', 'children', 'smoker']\n",
      "['sex', 'smoker']\n",
      "['charges']\n"
     ]
    }
   ],
   "source": [
    "#Verify if list of columns are correct\r\n",
    "print(input_cols)\r\n",
    "print(categorical_cols)\r\n",
    "print(output_cols)"
   ]
  },
  {
   "cell_type": "code",
   "execution_count": 23,
   "metadata": {
    "executionInfo": {
     "elapsed": 944,
     "status": "ok",
     "timestamp": 1607785633903,
     "user": {
      "displayName": "Jan Carlo Pagtalunan",
      "photoUrl": "",
      "userId": "18020531308164200758"
     },
     "user_tz": -480
    },
    "id": "17QXTWXB6p4w"
   },
   "outputs": [],
   "source": [
    "def dataframe_to_arrays(dataframe):\n",
    "    # Make a copy of the original dataframe\n",
    "    dataframe1 = dataframe.copy(deep=True)\n",
    "    # Convert non-numeric categorical columns to numbers\n",
    "    for col in categorical_cols:\n",
    "        dataframe1[col] = dataframe1[col].astype('category').cat.codes\n",
    "    # Extract input & outupts as numpy arrays\n",
    "    inputs_array = dataframe1[input_cols].to_numpy()\n",
    "    targets_array = dataframe1[output_cols].to_numpy()\n",
    "    return inputs_array, targets_array"
   ]
  },
  {
   "cell_type": "markdown",
   "metadata": {
    "id": "sHd_1LC96p4x"
   },
   "source": [
    "Read through the [Pandas documentation](https://pandas.pydata.org/pandas-docs/stable/user_guide/categorical.html) to understand how we're converting categorical variables into numbers."
   ]
  },
  {
   "cell_type": "code",
   "execution_count": 24,
   "metadata": {
    "colab": {
     "base_uri": "https://localhost:8080/"
    },
    "executionInfo": {
     "elapsed": 935,
     "status": "ok",
     "timestamp": 1607785633904,
     "user": {
      "displayName": "Jan Carlo Pagtalunan",
      "photoUrl": "",
      "userId": "18020531308164200758"
     },
     "user_tz": -480
    },
    "id": "dnq9_GSu6p4x",
    "outputId": "856419a9-fe57-496f-a404-cf77a7a7bd05"
   },
   "outputs": [
    {
     "data": {
      "text/plain": [
       "(array([[55.    ,  0.    , 39.5857,  3.    ,  0.    ],\n",
       "        [27.    ,  1.    , 22.407 ,  0.    ,  0.    ],\n",
       "        [51.    ,  1.    , 24.638 ,  0.    ,  0.    ],\n",
       "        ...,\n",
       "        [53.    ,  1.    , 25.6177,  2.    ,  0.    ],\n",
       "        [19.    ,  0.    , 39.285 ,  0.    ,  0.    ],\n",
       "        [55.    ,  1.    , 31.6899,  1.    ,  0.    ]]), array([[13734.38099],\n",
       "        [ 2732.1096 ],\n",
       "        [ 9660.7159 ],\n",
       "        ...,\n",
       "        [12368.81459],\n",
       "        [ 1935.2718 ],\n",
       "        [11888.23493]]))"
      ]
     },
     "execution_count": 24,
     "metadata": {
      "tags": []
     },
     "output_type": "execute_result"
    }
   ],
   "source": [
    "inputs_array, targets_array = dataframe_to_arrays(dataframe)\n",
    "inputs_array, targets_array"
   ]
  },
  {
   "cell_type": "markdown",
   "metadata": {
    "id": "mczsS5Hb6p41"
   },
   "source": [
    "**Q: Convert the numpy arrays `inputs_array` and `targets_array` into PyTorch tensors. Make sure that the data type is `torch.float32`.**"
   ]
  },
  {
   "cell_type": "code",
   "execution_count": 25,
   "metadata": {
    "executionInfo": {
     "elapsed": 931,
     "status": "ok",
     "timestamp": 1607785633906,
     "user": {
      "displayName": "Jan Carlo Pagtalunan",
      "photoUrl": "",
      "userId": "18020531308164200758"
     },
     "user_tz": -480
    },
    "id": "rXBpFkVd6p43"
   },
   "outputs": [],
   "source": [
    "inputs = torch.from_numpy(inputs_array).float()\n",
    "targets = torch.from_numpy(targets_array).float()"
   ]
  },
  {
   "cell_type": "code",
   "execution_count": 26,
   "metadata": {
    "colab": {
     "base_uri": "https://localhost:8080/"
    },
    "executionInfo": {
     "elapsed": 927,
     "status": "ok",
     "timestamp": 1607785633907,
     "user": {
      "displayName": "Jan Carlo Pagtalunan",
      "photoUrl": "",
      "userId": "18020531308164200758"
     },
     "user_tz": -480
    },
    "id": "yMSUbvg86p43",
    "outputId": "b6a61e5d-7710-48a3-8b87-2c2b705fa0f1"
   },
   "outputs": [
    {
     "data": {
      "text/plain": [
       "(torch.float32, torch.float32)"
      ]
     },
     "execution_count": 26,
     "metadata": {
      "tags": []
     },
     "output_type": "execute_result"
    }
   ],
   "source": [
    "inputs.dtype, targets.dtype"
   ]
  },
  {
   "cell_type": "code",
   "execution_count": 27,
   "metadata": {
    "colab": {
     "base_uri": "https://localhost:8080/"
    },
    "executionInfo": {
     "elapsed": 926,
     "status": "ok",
     "timestamp": 1607785633909,
     "user": {
      "displayName": "Jan Carlo Pagtalunan",
      "photoUrl": "",
      "userId": "18020531308164200758"
     },
     "user_tz": -480
    },
    "id": "5Bb-ap4sUdft",
    "outputId": "5fb1a486-dc26-4cc2-f383-a50002b20cbf"
   },
   "outputs": [
    {
     "name": "stdout",
     "output_type": "stream",
     "text": [
      "tensor([[55.0000,  0.0000, 39.5857,  3.0000,  0.0000],\n",
      "        [27.0000,  1.0000, 22.4070,  0.0000,  0.0000],\n",
      "        [51.0000,  1.0000, 24.6380,  0.0000,  0.0000],\n",
      "        ...,\n",
      "        [53.0000,  1.0000, 25.6177,  2.0000,  0.0000],\n",
      "        [19.0000,  0.0000, 39.2850,  0.0000,  0.0000],\n",
      "        [55.0000,  1.0000, 31.6899,  1.0000,  0.0000]])\n",
      "tensor([[13734.3809],\n",
      "        [ 2732.1096],\n",
      "        [ 9660.7158],\n",
      "        ...,\n",
      "        [12368.8145],\n",
      "        [ 1935.2719],\n",
      "        [11888.2354]])\n"
     ]
    }
   ],
   "source": [
    "#Inputs\r\n",
    "print(inputs)\r\n",
    "#Targets\r\n",
    "print(targets)"
   ]
  },
  {
   "cell_type": "markdown",
   "metadata": {
    "id": "5oaSmX426p47"
   },
   "source": [
    "Next, we need to create PyTorch datasets & data loaders for training & validation. We'll start by creating a `TensorDataset`."
   ]
  },
  {
   "cell_type": "code",
   "execution_count": 28,
   "metadata": {
    "executionInfo": {
     "elapsed": 925,
     "status": "ok",
     "timestamp": 1607785633910,
     "user": {
      "displayName": "Jan Carlo Pagtalunan",
      "photoUrl": "",
      "userId": "18020531308164200758"
     },
     "user_tz": -480
    },
    "id": "iFV7tKyZ6p48"
   },
   "outputs": [],
   "source": [
    "dataset = TensorDataset(inputs, targets)"
   ]
  },
  {
   "cell_type": "markdown",
   "metadata": {
    "id": "tOq5Dnet6p49"
   },
   "source": [
    "**Q: Pick a number between `0.1` and `0.2` to determine the fraction of data that will be used for creating the validation set. Then use `random_split` to create training & validation datasets.**"
   ]
  },
  {
   "cell_type": "code",
   "execution_count": 29,
   "metadata": {
    "colab": {
     "base_uri": "https://localhost:8080/"
    },
    "executionInfo": {
     "elapsed": 923,
     "status": "ok",
     "timestamp": 1607785633912,
     "user": {
      "displayName": "Jan Carlo Pagtalunan",
      "photoUrl": "",
      "userId": "18020531308164200758"
     },
     "user_tz": -480
    },
    "id": "gMneCwap6p49",
    "outputId": "89f9d131-32b3-4b83-bc99-58dc72b61bde"
   },
   "outputs": [
    {
     "name": "stdout",
     "output_type": "stream",
     "text": [
      "190\n",
      "1081\n"
     ]
    }
   ],
   "source": [
    "val_percent = 0.15 # between 0.1 and 0.2\n",
    "val_size = int(num_rows * val_percent)\n",
    "train_size = num_rows - val_size\n",
    "print(val_size)\n",
    "print(train_size)\n",
    "\n",
    "\n",
    "train_ds, val_ds = random_split(dataset,[train_size,val_size]) # Use the random_split function to split dataset into 2 parts of the desired length"
   ]
  },
  {
   "cell_type": "markdown",
   "metadata": {
    "id": "YOiR-fNf6p4-"
   },
   "source": [
    "Finally, we can create data loaders for training & validation.\n",
    "\n",
    "**Q: Pick a batch size for the data loader.**"
   ]
  },
  {
   "cell_type": "code",
   "execution_count": 34,
   "metadata": {
    "executionInfo": {
     "elapsed": 977,
     "status": "ok",
     "timestamp": 1607785681537,
     "user": {
      "displayName": "Jan Carlo Pagtalunan",
      "photoUrl": "",
      "userId": "18020531308164200758"
     },
     "user_tz": -480
    },
    "id": "kkIw5hln6p5A"
   },
   "outputs": [],
   "source": [
    "batch_size = 32"
   ]
  },
  {
   "cell_type": "code",
   "execution_count": 35,
   "metadata": {
    "executionInfo": {
     "elapsed": 626,
     "status": "ok",
     "timestamp": 1607785682856,
     "user": {
      "displayName": "Jan Carlo Pagtalunan",
      "photoUrl": "",
      "userId": "18020531308164200758"
     },
     "user_tz": -480
    },
    "id": "uFyGVnzm6p5B"
   },
   "outputs": [],
   "source": [
    "train_loader = DataLoader(train_ds, batch_size, shuffle=True)\n",
    "val_loader = DataLoader(val_ds, batch_size)"
   ]
  },
  {
   "cell_type": "markdown",
   "metadata": {
    "id": "hAY7qxxk6p5f"
   },
   "source": [
    "Let's look at a batch of data to verify everything is working fine so far."
   ]
  },
  {
   "cell_type": "code",
   "execution_count": 36,
   "metadata": {
    "colab": {
     "base_uri": "https://localhost:8080/"
    },
    "executionInfo": {
     "elapsed": 688,
     "status": "ok",
     "timestamp": 1607785684150,
     "user": {
      "displayName": "Jan Carlo Pagtalunan",
      "photoUrl": "",
      "userId": "18020531308164200758"
     },
     "user_tz": -480
    },
    "id": "gNgyGmCA6p5h",
    "outputId": "a46845f9-a8d2-4a75-f955-8c2906f41ca4"
   },
   "outputs": [
    {
     "name": "stdout",
     "output_type": "stream",
     "text": [
      "inputs: tensor([[49.0000,  0.0000, 22.4846,  2.0000,  0.0000],\n",
      "        [54.0000,  1.0000, 28.3240,  1.0000,  0.0000],\n",
      "        [24.0000,  0.0000, 38.3053,  0.0000,  0.0000],\n",
      "        [53.0000,  1.0000, 40.2259,  0.0000,  0.0000],\n",
      "        [60.0000,  0.0000, 36.9182,  0.0000,  0.0000],\n",
      "        [58.0000,  0.0000, 31.9760,  0.0000,  0.0000],\n",
      "        [40.0000,  1.0000, 24.2209,  2.0000,  0.0000],\n",
      "        [19.0000,  0.0000, 23.9590,  0.0000,  0.0000],\n",
      "        [63.0000,  0.0000, 26.9078,  0.0000,  1.0000],\n",
      "        [26.0000,  1.0000, 31.9130,  2.0000,  1.0000],\n",
      "        [50.0000,  0.0000, 43.4026,  0.0000,  0.0000],\n",
      "        [21.0000,  1.0000, 30.1670,  0.0000,  0.0000],\n",
      "        [33.0000,  0.0000, 17.9450,  1.0000,  0.0000],\n",
      "        [33.0000,  0.0000, 38.6254,  1.0000,  0.0000],\n",
      "        [34.0000,  1.0000, 33.1837,  0.0000,  0.0000],\n",
      "        [52.0000,  1.0000, 31.7917,  3.0000,  0.0000],\n",
      "        [52.0000,  0.0000, 24.5410,  2.0000,  1.0000],\n",
      "        [47.0000,  1.0000, 27.3685,  3.0000,  1.0000],\n",
      "        [62.0000,  0.0000, 24.2500,  0.0000,  0.0000],\n",
      "        [58.0000,  1.0000, 27.7372,  0.0000,  0.0000],\n",
      "        [47.0000,  0.0000, 26.8157,  2.0000,  1.0000],\n",
      "        [35.0000,  1.0000, 26.7817,  1.0000,  0.0000],\n",
      "        [20.0000,  1.0000, 38.2180,  2.0000,  1.0000],\n",
      "        [19.0000,  0.0000, 28.0136,  0.0000,  1.0000],\n",
      "        [49.0000,  1.0000, 27.8390,  1.0000,  0.0000],\n",
      "        [45.0000,  0.0000, 29.9730,  2.0000,  0.0000],\n",
      "        [27.0000,  1.0000, 32.1604,  2.0000,  0.0000],\n",
      "        [60.0000,  1.0000, 23.5904,  0.0000,  0.0000],\n",
      "        [20.0000,  1.0000, 39.2559,  0.0000,  0.0000],\n",
      "        [19.0000,  1.0000, 27.5480,  1.0000,  0.0000],\n",
      "        [25.0000,  0.0000, 23.5710,  3.0000,  0.0000],\n",
      "        [25.0000,  1.0000, 23.4061,  0.0000,  1.0000]])\n",
      "targets: tensor([[11172.4619],\n",
      "        [11479.7061],\n",
      "        [ 2729.0769],\n",
      "        [10454.7412],\n",
      "        [13913.5742],\n",
      "        [13674.0488],\n",
      "        [ 7252.8589],\n",
      "        [ 1911.1136],\n",
      "        [32475.4824],\n",
      "        [39693.7422],\n",
      "        [10495.8652],\n",
      "        [ 1678.9432],\n",
      "        [ 5242.6240],\n",
      "        [ 5275.2227],\n",
      "        [ 4328.6978],\n",
      "        [12418.0205],\n",
      "        [27134.1602],\n",
      "        [27406.7422],\n",
      "        [14796.2344],\n",
      "        [12909.4668],\n",
      "        [26989.2676],\n",
      "        [ 5221.7583],\n",
      "        [42179.0234],\n",
      "        [19523.3574],\n",
      "        [ 9573.8018],\n",
      "        [ 9372.0283],\n",
      "        [ 4464.5835],\n",
      "        [13775.9648],\n",
      "        [ 2182.8987],\n",
      "        [ 2026.7709],\n",
      "        [ 4830.8174],\n",
      "        [17399.7852]])\n"
     ]
    }
   ],
   "source": [
    "for xb, yb in train_loader:\n",
    "    print(\"inputs:\", xb)\n",
    "    print(\"targets:\", yb)\n",
    "    break"
   ]
  },
  {
   "cell_type": "markdown",
   "metadata": {
    "id": "wiINJvZ86p5j"
   },
   "source": [
    "Let's save our work by committing to Jovian."
   ]
  },
  {
   "cell_type": "code",
   "execution_count": 33,
   "metadata": {
    "colab": {
     "base_uri": "https://localhost:8080/",
     "height": 91
    },
    "executionInfo": {
     "elapsed": 2885,
     "status": "ok",
     "timestamp": 1607785635893,
     "user": {
      "displayName": "Jan Carlo Pagtalunan",
      "photoUrl": "",
      "userId": "18020531308164200758"
     },
     "user_tz": -480
    },
    "id": "nUZuEK056p5k",
    "outputId": "aa549799-3903-405b-b4eb-9fc3f9a2666d"
   },
   "outputs": [
    {
     "name": "stdout",
     "output_type": "stream",
     "text": [
      "[jovian] Detected Colab notebook...\u001b[0m\n",
      "[jovian] Uploading colab notebook to Jovian...\u001b[0m\n",
      "[jovian] Committed successfully! https://jovian.ai/jcawesome/02-insurance-linear-regression\u001b[0m\n"
     ]
    },
    {
     "data": {
      "application/vnd.google.colaboratory.intrinsic+json": {
       "type": "string"
      },
      "text/plain": [
       "'https://jovian.ai/jcawesome/02-insurance-linear-regression'"
      ]
     },
     "execution_count": 33,
     "metadata": {
      "tags": []
     },
     "output_type": "execute_result"
    }
   ],
   "source": [
    "jovian.commit(project=project_name, environment=None)"
   ]
  },
  {
   "cell_type": "markdown",
   "metadata": {
    "id": "GtGiocvm6p5m"
   },
   "source": [
    "## Step 3: Create a Linear Regression Model\n",
    "\n",
    "Our model itself is a fairly straightforward linear regression (we'll build more complex models in the next assignment). \n"
   ]
  },
  {
   "cell_type": "code",
   "execution_count": 37,
   "metadata": {
    "executionInfo": {
     "elapsed": 1516,
     "status": "ok",
     "timestamp": 1607785691564,
     "user": {
      "displayName": "Jan Carlo Pagtalunan",
      "photoUrl": "",
      "userId": "18020531308164200758"
     },
     "user_tz": -480
    },
    "id": "YjLmzp5a6p5n"
   },
   "outputs": [],
   "source": [
    "input_size = len(input_cols)\n",
    "output_size = len(output_cols)"
   ]
  },
  {
   "cell_type": "markdown",
   "metadata": {
    "id": "NlqbqZhN6p5w"
   },
   "source": [
    "**Q: Complete the class definition below by filling out the constructor (`__init__`), `forward`, `training_step` and `validation_step` methods.**\n",
    "\n",
    "Hint: Think carefully about picking a good loss fuction (it's not cross entropy). Maybe try 2-3 of them and see which one works best. See https://pytorch.org/docs/stable/nn.functional.html#loss-functions"
   ]
  },
  {
   "cell_type": "code",
   "execution_count": 38,
   "metadata": {
    "executionInfo": {
     "elapsed": 1511,
     "status": "ok",
     "timestamp": 1607785692953,
     "user": {
      "displayName": "Jan Carlo Pagtalunan",
      "photoUrl": "",
      "userId": "18020531308164200758"
     },
     "user_tz": -480
    },
    "id": "21ivyGK0XBpH"
   },
   "outputs": [],
   "source": [
    "model=nn.Linear(input_size, output_size)"
   ]
  },
  {
   "cell_type": "code",
   "execution_count": 39,
   "metadata": {
    "colab": {
     "base_uri": "https://localhost:8080/"
    },
    "executionInfo": {
     "elapsed": 939,
     "status": "ok",
     "timestamp": 1607785693344,
     "user": {
      "displayName": "Jan Carlo Pagtalunan",
      "photoUrl": "",
      "userId": "18020531308164200758"
     },
     "user_tz": -480
    },
    "id": "vGz_A72rXE8F",
    "outputId": "b9d8bb69-cbb7-43e6-bf4d-3cb8f80cae4b"
   },
   "outputs": [
    {
     "name": "stdout",
     "output_type": "stream",
     "text": [
      "torch.Size([1, 5])\n"
     ]
    },
    {
     "data": {
      "text/plain": [
       "Parameter containing:\n",
       "tensor([[-0.2607, -0.3092, -0.4144,  0.0039,  0.2062]], requires_grad=True)"
      ]
     },
     "execution_count": 39,
     "metadata": {
      "tags": []
     },
     "output_type": "execute_result"
    }
   ],
   "source": [
    "print(model.weight.shape)\r\n",
    "model.weight"
   ]
  },
  {
   "cell_type": "code",
   "execution_count": 40,
   "metadata": {
    "executionInfo": {
     "elapsed": 1122,
     "status": "ok",
     "timestamp": 1607785697212,
     "user": {
      "displayName": "Jan Carlo Pagtalunan",
      "photoUrl": "",
      "userId": "18020531308164200758"
     },
     "user_tz": -480
    },
    "id": "RGK049YP6p5y"
   },
   "outputs": [],
   "source": [
    "class InsuranceModel(nn.Module):\n",
    "    def __init__(self):\n",
    "        super().__init__()\n",
    "        self.linear = nn.Linear(input_size, output_size)                  # fill this (hint: use input_size & output_size defined above)\n",
    "        \n",
    "    def forward(self, xb):\n",
    "        out = self.linear(xb)                      # fill this\n",
    "        return out\n",
    "    \n",
    "    def training_step(self, batch):\n",
    "        inputs, targets = batch \n",
    "        # Generate predictions\n",
    "        out = self(inputs)        \n",
    "        # Calcuate loss\n",
    "        loss = F.smooth_l1_loss(out,targets)                          # fill this\n",
    "        return loss\n",
    "    \n",
    "    def validation_step(self, batch):\n",
    "        inputs, targets = batch\n",
    "        # Generate predictions\n",
    "        out = self(inputs)\n",
    "        # Calculate loss\n",
    "        loss = F.smooth_l1_loss(out,targets)                           # fill this    \n",
    "        return {'val_loss': loss.detach()}\n",
    "        \n",
    "    def validation_epoch_end(self, outputs):\n",
    "        batch_losses = [x['val_loss'] for x in outputs]\n",
    "        epoch_loss = torch.stack(batch_losses).mean()   # Combine losses\n",
    "        return {'val_loss': epoch_loss.item()}\n",
    "    \n",
    "    def epoch_end(self, epoch, result, num_epochs):\n",
    "        # Print result every 20th epoch\n",
    "        if (epoch+1) % 100 == 0 or epoch == num_epochs-1:\n",
    "            print(\"Epoch [{}], val_loss: {:.4f}\".format(epoch+1, result['val_loss']))"
   ]
  },
  {
   "cell_type": "markdown",
   "metadata": {
    "id": "zuTeaJ1m6p5y"
   },
   "source": [
    "Let us create a model using the `InsuranceModel` class. You may need to come back later and re-run the next cell to reinitialize the model, in case the loss becomes `nan` or `infinity`."
   ]
  },
  {
   "cell_type": "code",
   "execution_count": 41,
   "metadata": {
    "executionInfo": {
     "elapsed": 1157,
     "status": "ok",
     "timestamp": 1607785698959,
     "user": {
      "displayName": "Jan Carlo Pagtalunan",
      "photoUrl": "",
      "userId": "18020531308164200758"
     },
     "user_tz": -480
    },
    "id": "q8LWybv86p5z"
   },
   "outputs": [],
   "source": [
    "model = InsuranceModel()"
   ]
  },
  {
   "cell_type": "markdown",
   "metadata": {
    "id": "2HP3Jr3Q6p50"
   },
   "source": [
    "Let's check out the weights and biases of the model using `model.parameters`."
   ]
  },
  {
   "cell_type": "code",
   "execution_count": 42,
   "metadata": {
    "colab": {
     "base_uri": "https://localhost:8080/"
    },
    "executionInfo": {
     "elapsed": 1042,
     "status": "ok",
     "timestamp": 1607785700569,
     "user": {
      "displayName": "Jan Carlo Pagtalunan",
      "photoUrl": "",
      "userId": "18020531308164200758"
     },
     "user_tz": -480
    },
    "id": "jW0_K5el6p50",
    "outputId": "c9e7ab93-1cc4-40eb-a788-dc2bc68f9584"
   },
   "outputs": [
    {
     "data": {
      "text/plain": [
       "[Parameter containing:\n",
       " tensor([[-0.1609,  0.0597, -0.0537, -0.2105,  0.4216]], requires_grad=True),\n",
       " Parameter containing:\n",
       " tensor([0.0646], requires_grad=True)]"
      ]
     },
     "execution_count": 42,
     "metadata": {
      "tags": []
     },
     "output_type": "execute_result"
    }
   ],
   "source": [
    "list(model.parameters())"
   ]
  },
  {
   "cell_type": "markdown",
   "metadata": {
    "id": "uGLsOxDm6p50"
   },
   "source": [
    "One final commit before we train the model."
   ]
  },
  {
   "cell_type": "code",
   "execution_count": 43,
   "metadata": {
    "colab": {
     "base_uri": "https://localhost:8080/",
     "height": 91
    },
    "executionInfo": {
     "elapsed": 3449,
     "status": "ok",
     "timestamp": 1607785705179,
     "user": {
      "displayName": "Jan Carlo Pagtalunan",
      "photoUrl": "",
      "userId": "18020531308164200758"
     },
     "user_tz": -480
    },
    "id": "ULxE_XBC6p51",
    "outputId": "2f21d4f0-bd23-44bf-bb48-616ee4773a5d"
   },
   "outputs": [
    {
     "name": "stdout",
     "output_type": "stream",
     "text": [
      "[jovian] Detected Colab notebook...\u001b[0m\n",
      "[jovian] Uploading colab notebook to Jovian...\u001b[0m\n",
      "[jovian] Committed successfully! https://jovian.ai/jcawesome/02-insurance-linear-regression\u001b[0m\n"
     ]
    },
    {
     "data": {
      "application/vnd.google.colaboratory.intrinsic+json": {
       "type": "string"
      },
      "text/plain": [
       "'https://jovian.ai/jcawesome/02-insurance-linear-regression'"
      ]
     },
     "execution_count": 43,
     "metadata": {
      "tags": []
     },
     "output_type": "execute_result"
    }
   ],
   "source": [
    "jovian.commit(project=project_name, environment=None)"
   ]
  },
  {
   "cell_type": "markdown",
   "metadata": {
    "id": "_aI9IyAS6p52"
   },
   "source": [
    "## Step 4: Train the model to fit the data\n",
    "\n",
    "To train our model, we'll use the same `fit` function explained in the lecture. That's the benefit of defining a generic training loop - you can use it for any problem."
   ]
  },
  {
   "cell_type": "code",
   "execution_count": 44,
   "metadata": {
    "executionInfo": {
     "elapsed": 1183,
     "status": "ok",
     "timestamp": 1607785709446,
     "user": {
      "displayName": "Jan Carlo Pagtalunan",
      "photoUrl": "",
      "userId": "18020531308164200758"
     },
     "user_tz": -480
    },
    "id": "slKrx4a86p52"
   },
   "outputs": [],
   "source": [
    "def evaluate(model, val_loader):\n",
    "    outputs = [model.validation_step(batch) for batch in val_loader]\n",
    "    return model.validation_epoch_end(outputs)\n",
    "\n",
    "def fit(epochs, lr, model, train_loader, val_loader, opt_func=torch.optim.SGD):\n",
    "    history = []\n",
    "    optimizer = opt_func(model.parameters(), lr)\n",
    "    for epoch in range(epochs):\n",
    "        # Training Phase \n",
    "        for batch in train_loader:\n",
    "            loss = model.training_step(batch)\n",
    "            loss.backward()\n",
    "            optimizer.step()\n",
    "            optimizer.zero_grad()\n",
    "        # Validation phase\n",
    "        result = evaluate(model, val_loader)\n",
    "        model.epoch_end(epoch, result, epochs)\n",
    "        history.append(result)\n",
    "    return history"
   ]
  },
  {
   "cell_type": "markdown",
   "metadata": {
    "id": "y2BXGJB16p53"
   },
   "source": [
    "**Q: Use the `evaluate` function to calculate the loss on the validation set before training.**"
   ]
  },
  {
   "cell_type": "code",
   "execution_count": 45,
   "metadata": {
    "colab": {
     "base_uri": "https://localhost:8080/"
    },
    "executionInfo": {
     "elapsed": 1049,
     "status": "ok",
     "timestamp": 1607785710879,
     "user": {
      "displayName": "Jan Carlo Pagtalunan",
      "photoUrl": "",
      "userId": "18020531308164200758"
     },
     "user_tz": -480
    },
    "id": "Aeug99Y56p54",
    "outputId": "2b2113a5-4a51-4457-dd3a-211e4fca96fb"
   },
   "outputs": [
    {
     "name": "stdout",
     "output_type": "stream",
     "text": [
      "{'val_loss': 13790.7685546875}\n"
     ]
    }
   ],
   "source": [
    "result = evaluate(model,val_loader) # Use the the evaluate function\n",
    "print(result)"
   ]
  },
  {
   "cell_type": "markdown",
   "metadata": {
    "id": "iIo7phXP6p55"
   },
   "source": [
    "\n",
    "We are now ready to train the model. You may need to run the training loop many times, for different number of epochs and with different learning rates, to get a good result. Also, if your loss becomes too large (or `nan`), you may have to re-initialize the model by running the cell `model = InsuranceModel()`. Experiment with this for a while, and try to get to as low a loss as possible."
   ]
  },
  {
   "cell_type": "markdown",
   "metadata": {
    "id": "EtUeoRQg6p56"
   },
   "source": [
    "**Q: Train the model 4-5 times with different learning rates & for different number of epochs.**\n",
    "\n",
    "Hint: Vary learning rates by orders of 10 (e.g. `1e-2`, `1e-3`, `1e-4`, `1e-5`, `1e-6`) to figure out what works."
   ]
  },
  {
   "cell_type": "code",
   "execution_count": 46,
   "metadata": {
    "executionInfo": {
     "elapsed": 1194,
     "status": "ok",
     "timestamp": 1607785713185,
     "user": {
      "displayName": "Jan Carlo Pagtalunan",
      "photoUrl": "",
      "userId": "18020531308164200758"
     },
     "user_tz": -480
    },
    "id": "ZUC5VYrVoX3b"
   },
   "outputs": [],
   "source": [
    "model = InsuranceModel()"
   ]
  },
  {
   "cell_type": "code",
   "execution_count": 47,
   "metadata": {
    "colab": {
     "base_uri": "https://localhost:8080/"
    },
    "executionInfo": {
     "elapsed": 23761,
     "status": "ok",
     "timestamp": 1607785738062,
     "user": {
      "displayName": "Jan Carlo Pagtalunan",
      "photoUrl": "",
      "userId": "18020531308164200758"
     },
     "user_tz": -480
    },
    "id": "Cf40GD6F6p57",
    "outputId": "0b0b871b-9edf-464a-b871-f111dc4b5c51"
   },
   "outputs": [
    {
     "name": "stdout",
     "output_type": "stream",
     "text": [
      "Epoch [100], val_loss: 6667.5903\n",
      "Epoch [200], val_loss: 6684.3638\n",
      "Epoch [300], val_loss: 6530.0259\n",
      "Epoch [400], val_loss: 6378.5757\n",
      "Epoch [500], val_loss: 6116.7515\n",
      "Epoch [600], val_loss: 6224.5679\n",
      "Epoch [700], val_loss: 5925.8003\n",
      "Epoch [800], val_loss: 5739.5073\n",
      "Epoch [900], val_loss: 5622.0708\n",
      "Epoch [1000], val_loss: 5486.3794\n"
     ]
    }
   ],
   "source": [
    "epochs = 1000\n",
    "lr = 1\n",
    "history1 = fit(epochs, lr, model, train_loader, val_loader)"
   ]
  },
  {
   "cell_type": "code",
   "execution_count": 48,
   "metadata": {
    "colab": {
     "base_uri": "https://localhost:8080/"
    },
    "executionInfo": {
     "elapsed": 46381,
     "status": "ok",
     "timestamp": 1607785787055,
     "user": {
      "displayName": "Jan Carlo Pagtalunan",
      "photoUrl": "",
      "userId": "18020531308164200758"
     },
     "user_tz": -480
    },
    "id": "BdDk11Z86p57",
    "outputId": "0bb79772-d460-4c02-b957-596645b4c890"
   },
   "outputs": [
    {
     "name": "stdout",
     "output_type": "stream",
     "text": [
      "Epoch [100], val_loss: 5391.8027\n",
      "Epoch [200], val_loss: 5419.4189\n",
      "Epoch [300], val_loss: 5134.1313\n",
      "Epoch [400], val_loss: 5086.2314\n",
      "Epoch [500], val_loss: 5152.5762\n",
      "Epoch [600], val_loss: 4733.4404\n",
      "Epoch [700], val_loss: 4623.3779\n",
      "Epoch [800], val_loss: 4523.2241\n",
      "Epoch [900], val_loss: 4396.0073\n",
      "Epoch [1000], val_loss: 4455.1514\n",
      "Epoch [1100], val_loss: 4257.2212\n",
      "Epoch [1200], val_loss: 4177.1479\n",
      "Epoch [1300], val_loss: 4260.6021\n",
      "Epoch [1400], val_loss: 4187.7925\n",
      "Epoch [1500], val_loss: 4079.8027\n",
      "Epoch [1600], val_loss: 4031.7520\n",
      "Epoch [1700], val_loss: 4146.4028\n",
      "Epoch [1800], val_loss: 4851.7593\n",
      "Epoch [1900], val_loss: 4071.3330\n",
      "Epoch [2000], val_loss: 3988.8047\n"
     ]
    }
   ],
   "source": [
    "epochs = 2000\n",
    "lr = 1\n",
    "history2 = fit(epochs, lr, model, train_loader, val_loader)"
   ]
  },
  {
   "cell_type": "code",
   "execution_count": 50,
   "metadata": {
    "colab": {
     "base_uri": "https://localhost:8080/"
    },
    "executionInfo": {
     "elapsed": 23489,
     "status": "ok",
     "timestamp": 1607785843486,
     "user": {
      "displayName": "Jan Carlo Pagtalunan",
      "photoUrl": "",
      "userId": "18020531308164200758"
     },
     "user_tz": -480
    },
    "id": "qBzqoeXB6p58",
    "outputId": "03b316b3-877f-408d-eae6-d3609a296245"
   },
   "outputs": [
    {
     "name": "stdout",
     "output_type": "stream",
     "text": [
      "Epoch [100], val_loss: 3985.8711\n",
      "Epoch [200], val_loss: 3987.2004\n",
      "Epoch [300], val_loss: 3987.3291\n",
      "Epoch [400], val_loss: 3985.7158\n",
      "Epoch [500], val_loss: 3988.0212\n",
      "Epoch [600], val_loss: 3987.5603\n",
      "Epoch [700], val_loss: 3985.1887\n",
      "Epoch [800], val_loss: 3985.9070\n",
      "Epoch [900], val_loss: 3984.8220\n",
      "Epoch [1000], val_loss: 3986.7842\n"
     ]
    }
   ],
   "source": [
    "epochs = 1000\n",
    "lr = 1e-2\n",
    "history3 = fit(epochs, lr, model, train_loader, val_loader)"
   ]
  },
  {
   "cell_type": "code",
   "execution_count": 51,
   "metadata": {
    "colab": {
     "base_uri": "https://localhost:8080/"
    },
    "executionInfo": {
     "elapsed": 24004,
     "status": "ok",
     "timestamp": 1607785873418,
     "user": {
      "displayName": "Jan Carlo Pagtalunan",
      "photoUrl": "",
      "userId": "18020531308164200758"
     },
     "user_tz": -480
    },
    "id": "gfKOmKnu6p5-",
    "outputId": "84292261-ee00-45be-bb39-0b9c2cd3debe"
   },
   "outputs": [
    {
     "name": "stdout",
     "output_type": "stream",
     "text": [
      "Epoch [100], val_loss: 3986.2168\n",
      "Epoch [200], val_loss: 3986.1484\n",
      "Epoch [300], val_loss: 3986.1570\n",
      "Epoch [400], val_loss: 3986.1008\n",
      "Epoch [500], val_loss: 3986.1709\n",
      "Epoch [600], val_loss: 3986.1272\n",
      "Epoch [700], val_loss: 3986.0916\n",
      "Epoch [800], val_loss: 3986.1067\n",
      "Epoch [900], val_loss: 3986.1042\n",
      "Epoch [1000], val_loss: 3986.1399\n"
     ]
    }
   ],
   "source": [
    "epochs = 1000\n",
    "lr = 1e-3\n",
    "history4 = fit(epochs, lr, model, train_loader, val_loader)"
   ]
  },
  {
   "cell_type": "code",
   "execution_count": 52,
   "metadata": {
    "colab": {
     "base_uri": "https://localhost:8080/"
    },
    "executionInfo": {
     "elapsed": 23717,
     "status": "ok",
     "timestamp": 1607785900061,
     "user": {
      "displayName": "Jan Carlo Pagtalunan",
      "photoUrl": "",
      "userId": "18020531308164200758"
     },
     "user_tz": -480
    },
    "id": "zcd6l27q6p5_",
    "outputId": "80b28851-fb95-4d60-b8c7-dce89c57872f"
   },
   "outputs": [
    {
     "name": "stdout",
     "output_type": "stream",
     "text": [
      "Epoch [100], val_loss: 3986.1218\n",
      "Epoch [200], val_loss: 3986.0984\n",
      "Epoch [300], val_loss: 3986.1008\n",
      "Epoch [400], val_loss: 3986.1013\n",
      "Epoch [500], val_loss: 3986.0977\n",
      "Epoch [600], val_loss: 3986.1033\n",
      "Epoch [700], val_loss: 3986.1062\n",
      "Epoch [800], val_loss: 3986.0977\n",
      "Epoch [900], val_loss: 3986.1035\n",
      "Epoch [1000], val_loss: 3986.0793\n"
     ]
    }
   ],
   "source": [
    "epochs = 1000\n",
    "lr = 1e-4\n",
    "history5 = fit(epochs, lr, model, train_loader, val_loader)"
   ]
  },
  {
   "cell_type": "markdown",
   "metadata": {
    "id": "F3gC0IGG6p5_"
   },
   "source": [
    "**Q: What is the final validation loss of your model?**"
   ]
  },
  {
   "cell_type": "code",
   "execution_count": 53,
   "metadata": {
    "colab": {
     "base_uri": "https://localhost:8080/"
    },
    "executionInfo": {
     "elapsed": 19037,
     "status": "ok",
     "timestamp": 1607785900065,
     "user": {
      "displayName": "Jan Carlo Pagtalunan",
      "photoUrl": "",
      "userId": "18020531308164200758"
     },
     "user_tz": -480
    },
    "id": "hjorysVS6p6A",
    "outputId": "8510eace-78b5-4090-c10d-6308e5d983e0"
   },
   "outputs": [
    {
     "data": {
      "text/plain": [
       "3986.079345703125"
      ]
     },
     "execution_count": 53,
     "metadata": {
      "tags": []
     },
     "output_type": "execute_result"
    }
   ],
   "source": [
    "val_loss = history5[-1]['val_loss']\r\n",
    "val_loss"
   ]
  },
  {
   "cell_type": "markdown",
   "metadata": {
    "id": "Hw5oqC466p6B"
   },
   "source": [
    "Let's log the final validation loss to Jovian and commit the notebook"
   ]
  },
  {
   "cell_type": "code",
   "execution_count": 54,
   "metadata": {
    "colab": {
     "base_uri": "https://localhost:8080/"
    },
    "executionInfo": {
     "elapsed": 980,
     "status": "ok",
     "timestamp": 1607785900397,
     "user": {
      "displayName": "Jan Carlo Pagtalunan",
      "photoUrl": "",
      "userId": "18020531308164200758"
     },
     "user_tz": -480
    },
    "id": "uo066Mrn6p6C",
    "outputId": "4046c7b8-9762-4980-fdaf-c395f35a335e"
   },
   "outputs": [
    {
     "name": "stdout",
     "output_type": "stream",
     "text": [
      "[jovian] Metrics logged.\u001b[0m\n"
     ]
    }
   ],
   "source": [
    "jovian.log_metrics(val_loss=val_loss)"
   ]
  },
  {
   "cell_type": "code",
   "execution_count": 55,
   "metadata": {
    "colab": {
     "base_uri": "https://localhost:8080/",
     "height": 109
    },
    "executionInfo": {
     "elapsed": 3210,
     "status": "ok",
     "timestamp": 1607785906118,
     "user": {
      "displayName": "Jan Carlo Pagtalunan",
      "photoUrl": "",
      "userId": "18020531308164200758"
     },
     "user_tz": -480
    },
    "id": "VXmz1M4E6p6C",
    "outputId": "b2c9011a-9bb8-4e96-bfb1-1b7ea3b16679"
   },
   "outputs": [
    {
     "name": "stdout",
     "output_type": "stream",
     "text": [
      "[jovian] Detected Colab notebook...\u001b[0m\n",
      "[jovian] Uploading colab notebook to Jovian...\u001b[0m\n",
      "[jovian] Attaching records (metrics, hyperparameters, dataset etc.)\u001b[0m\n",
      "[jovian] Committed successfully! https://jovian.ai/jcawesome/02-insurance-linear-regression\u001b[0m\n"
     ]
    },
    {
     "data": {
      "application/vnd.google.colaboratory.intrinsic+json": {
       "type": "string"
      },
      "text/plain": [
       "'https://jovian.ai/jcawesome/02-insurance-linear-regression'"
      ]
     },
     "execution_count": 55,
     "metadata": {
      "tags": []
     },
     "output_type": "execute_result"
    }
   ],
   "source": [
    "jovian.commit(project=project_name, environment=None)"
   ]
  },
  {
   "cell_type": "code",
   "execution_count": 56,
   "metadata": {
    "colab": {
     "base_uri": "https://localhost:8080/"
    },
    "executionInfo": {
     "elapsed": 1113,
     "status": "ok",
     "timestamp": 1607785911683,
     "user": {
      "displayName": "Jan Carlo Pagtalunan",
      "photoUrl": "",
      "userId": "18020531308164200758"
     },
     "user_tz": -480
    },
    "id": "nBWXMvL9rm5o",
    "outputId": "a7464c3c-b2ca-488f-f9c1-d12b9e907565"
   },
   "outputs": [
    {
     "data": {
      "text/plain": [
       "63.135404851027324"
      ]
     },
     "execution_count": 56,
     "metadata": {
      "tags": []
     },
     "output_type": "execute_result"
    }
   ],
   "source": [
    "import math\r\n",
    "math.sqrt(val_loss)"
   ]
  },
  {
   "cell_type": "markdown",
   "metadata": {
    "id": "UZQh_InU6p6D"
   },
   "source": [
    "Now scroll back up, re-initialize the model, and try different set of values for batch size, number of epochs, learning rate etc. Commit each experiment and use the \"Compare\" and \"View Diff\" options on Jovian to compare the different results."
   ]
  },
  {
   "cell_type": "markdown",
   "metadata": {
    "id": "Xqk9c3Pm6p6D"
   },
   "source": [
    "## Step 5: Make predictions using the trained model\n",
    "\n",
    "**Q: Complete the following function definition to make predictions on a single input**"
   ]
  },
  {
   "cell_type": "code",
   "execution_count": 57,
   "metadata": {
    "executionInfo": {
     "elapsed": 933,
     "status": "ok",
     "timestamp": 1607785915252,
     "user": {
      "displayName": "Jan Carlo Pagtalunan",
      "photoUrl": "",
      "userId": "18020531308164200758"
     },
     "user_tz": -480
    },
    "id": "V2y2dXeM6p6E"
   },
   "outputs": [],
   "source": [
    "def predict_single(input, target, model):\n",
    "    inputs = input.unsqueeze(0)\n",
    "    predictions = model(input)              # fill this\n",
    "    prediction = predictions[0].detach()\n",
    "    print(\"Input:\", input)\n",
    "    print(\"Target:\", target)\n",
    "    print(\"Prediction:\", prediction)"
   ]
  },
  {
   "cell_type": "code",
   "execution_count": 58,
   "metadata": {
    "colab": {
     "base_uri": "https://localhost:8080/"
    },
    "executionInfo": {
     "elapsed": 1350,
     "status": "ok",
     "timestamp": 1607785915678,
     "user": {
      "displayName": "Jan Carlo Pagtalunan",
      "photoUrl": "",
      "userId": "18020531308164200758"
     },
     "user_tz": -480
    },
    "id": "QjS5ln-Y6p6F",
    "outputId": "7ff871e8-4800-4dad-eeb2-bbc3f969c320"
   },
   "outputs": [
    {
     "name": "stdout",
     "output_type": "stream",
     "text": [
      "Input: tensor([43.0000,  0.0000, 26.0784,  0.0000,  1.0000])\n",
      "Target: tensor([23951.7539])\n",
      "Prediction: tensor(25904.5352)\n"
     ]
    }
   ],
   "source": [
    "input, target = val_ds[0]\n",
    "predict_single(input, target, model)"
   ]
  },
  {
   "cell_type": "code",
   "execution_count": 59,
   "metadata": {
    "colab": {
     "base_uri": "https://localhost:8080/"
    },
    "executionInfo": {
     "elapsed": 1346,
     "status": "ok",
     "timestamp": 1607785915680,
     "user": {
      "displayName": "Jan Carlo Pagtalunan",
      "photoUrl": "",
      "userId": "18020531308164200758"
     },
     "user_tz": -480
    },
    "id": "gO8GAUz76p6F",
    "outputId": "daa28d32-2688-46e2-8815-99670841c76d"
   },
   "outputs": [
    {
     "name": "stdout",
     "output_type": "stream",
     "text": [
      "Input: tensor([58.0000,  0.0000, 27.3685,  0.0000,  0.0000])\n",
      "Target: tensor([13446.7861])\n",
      "Prediction: tensor(12949.2773)\n"
     ]
    }
   ],
   "source": [
    "input, target = val_ds[10]\n",
    "predict_single(input, target, model)"
   ]
  },
  {
   "cell_type": "code",
   "execution_count": 60,
   "metadata": {
    "colab": {
     "base_uri": "https://localhost:8080/"
    },
    "executionInfo": {
     "elapsed": 1345,
     "status": "ok",
     "timestamp": 1607785915683,
     "user": {
      "displayName": "Jan Carlo Pagtalunan",
      "photoUrl": "",
      "userId": "18020531308164200758"
     },
     "user_tz": -480
    },
    "id": "ZOA4UuFi6p6G",
    "outputId": "707599fd-f16f-4726-97f0-39bc8b62cb02"
   },
   "outputs": [
    {
     "name": "stdout",
     "output_type": "stream",
     "text": [
      "Input: tensor([28.0000,  0.0000, 25.5256,  3.0000,  0.0000])\n",
      "Target: tensor([5843.3867])\n",
      "Prediction: tensor(5590.4961)\n"
     ]
    }
   ],
   "source": [
    "input, target = val_ds[23]\n",
    "predict_single(input, target, model)"
   ]
  },
  {
   "cell_type": "markdown",
   "metadata": {
    "id": "nOWvAPTZ6p6G"
   },
   "source": [
    "**I'm happy with these predictions** (after trying multiple combinations of the parameters"
   ]
  },
  {
   "cell_type": "code",
   "execution_count": null,
   "metadata": {
    "id": "T-tdeFckgyZV"
   },
   "outputs": [],
   "source": [
    "jovian.commit(project=project_name, environment=None)"
   ]
  }
 ],
 "metadata": {
  "colab": {
   "name": "02-insurance-linear.ipynb",
   "provenance": []
  },
  "language_info": {
   "codemirror_mode": {
    "name": "ipython",
    "version": 3
   },
   "file_extension": ".py",
   "mimetype": "text/x-python",
   "name": "python",
   "nbconvert_exporter": "python",
   "pygments_lexer": "ipython3",
   "version": "3.8.5"
  }
 },
 "nbformat": 4,
 "nbformat_minor": 0
}